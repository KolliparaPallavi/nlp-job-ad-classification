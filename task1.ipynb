{
 "cells": [
  {
   "cell_type": "markdown",
   "metadata": {},
   "source": [
    "# Assignment 2: Milestone I Natural Language Processing\n",
    "## Task 1. Basic Text Pre-processing\n",
    "#### Student Name: Pallavi Kollipara\n",
    "#### Student ID: s4015344\n",
    "\n",
    "Date: 8-05-2024\n",
    "\n",
    "Version: 1.0\n",
    "\n",
    "Environment: Python 3 and Jupyter notebook\n",
    "\n",
    "Libraries used: please include all the libraries you used in your assignment, e.g.,:\n",
    "* pandas\n",
    "* re\n",
    "* numpy\n",
    "\n",
    "## Introduction\n",
    "\n",
    "In Task 1, the primary goal is to prepare the job advertisement dataset for subsequent analysis and modeling tasks. This involves a series of text pre-processing steps to standardize and clean the textual data. Here's a breakdown of the steps involved:\n",
    "\n",
    "1. Tokenization: The descriptions of each job advertisement are split into individual words or tokens. This process is essential for breaking down the text into its constituent parts, making it easier to analyze and process further.\n",
    "\n",
    "2. Lowercasing: All words in the job advertisement descriptions are converted to lowercase. This normalization step ensures that words with different capitalizations are treated the same way, preventing redundancy in the vocabulary.\n",
    "\n",
    "3. Stopword Removal: Common stopwords such as \"the\", \"is\", \"and\", etc., which do not add significant meaning to the text, are removed from the job advertisement descriptions. This helps in reducing noise and improving the efficiency of downstream analysis. here we used stopwords_en.txt file for stopword removal.\n",
    "\n",
    "4. Filtering Short Words: Words with a length less than 2 are filtered out from the descriptions. This step eliminates very short or irrelevant tokens that may not contribute meaningfully to the analysis.\n",
    "\n",
    "5. Removing Rare and Frequent Words: Words that appear only once in the entire document collection and the top 50 most frequent words based on document frequency are removed. This helps in reducing noise and focusing on more relevant terms.\n",
    "\n",
    "6. Vocabulary Creation: Finally, a vocabulary of the cleaned job advertisement descriptions is constructed. This vocabulary contains all unique words present in the dataset after pre-processing, and it serves as a reference for further analysis and modeling tasks.\n",
    "\n",
    "Overall, Task 1 ensures that the job advertisement data is properly cleaned, standardized, and ready for subsequent analysis, such as feature extraction, classification, or clustering. The pre-processed data and the constructed vocabulary provide a solid foundation for conducting meaningful insights and deriving valuable information from the text data."
   ]
  },
  {
   "cell_type": "markdown",
   "metadata": {},
   "source": [
    "## Importing libraries "
   ]
  },
  {
   "cell_type": "code",
   "execution_count": 1,
   "metadata": {},
   "outputs": [],
   "source": [
    "# Code to import libraries as you need in this assessment, e.g.,\n",
    "from sklearn.datasets import load_files  \n",
    "from nltk.tokenize import RegexpTokenizer\n",
    "from nltk.corpus import stopwords\n",
    "from collections import Counter\n",
    "import os\n",
    "from nltk.probability import *"
   ]
  },
  {
   "cell_type": "markdown",
   "metadata": {},
   "source": [
    "### 1.1 Examining and loading data\n",
    "\n",
    "\n",
    "In the initial step, we embark on examining and loading the dataset containing job advertisements. This phase is crucial as it allows us to gain insights into the structure and contents of the data before proceeding with any preprocessing tasks.\n",
    "\n",
    "The dataset comprises 776 files, each representing a single job advertisement. These files contain key information such as the title of the job, web index, company name and description of the job. The descriptions are typically rich in detail, outlining the responsibilities, requirements, and qualifications associated with each job position.\n",
    "\n",
    "Furthermore, the job advertisements are categorized into distinct domains, including Accounting_Finance, Healthcare_Nursing, Engineering, and Sales. This categorization provides a valuable context for understanding the types of job roles and industries represented in the dataset.\n",
    "\n",
    "During the examination and loading process, we aim to familiarize ourselves with the dataset's structure, understand the distribution of job categories, and ensure that the data is properly formatted and ready for subsequent preprocessing steps. This preparatory phase sets the stage for effective data cleaning and text processing, ultimately facilitating the extraction of meaningful insights and patterns from the job advertisement data.\n"
   ]
  },
  {
   "cell_type": "code",
   "execution_count": 2,
   "metadata": {},
   "outputs": [],
   "source": [
    "data = load_files(r\"data\") "
   ]
  },
  {
   "cell_type": "code",
   "execution_count": 3,
   "metadata": {
    "scrolled": true
   },
   "outputs": [
    {
     "data": {
      "text/plain": [
       "776"
      ]
     },
     "execution_count": 3,
     "metadata": {},
     "output_type": "execute_result"
    }
   ],
   "source": [
    "categories = [path.split('/')[1] for path in data['filenames']]\n",
    "len(categories)"
   ]
  },
  {
   "cell_type": "code",
   "execution_count": 6,
   "metadata": {},
   "outputs": [
    {
     "data": {
      "text/plain": [
       "['Accounting_Finance', 'Engineering', 'Healthcare_Nursing', 'Sales']"
      ]
     },
     "execution_count": 6,
     "metadata": {},
     "output_type": "execute_result"
    }
   ],
   "source": [
    "data['target_names']"
   ]
  },
  {
   "cell_type": "code",
   "execution_count": 7,
   "metadata": {},
   "outputs": [],
   "source": [
    "job_ads, sentiments = data.data, data.target  "
   ]
  },
  {
   "cell_type": "markdown",
   "metadata": {},
   "source": [
    "### 1.2 Pre-processing data\n",
    "***\n",
    "In the provided code snippet, several preprocessing steps are performed on each job advertisement description to prepare the data for further analysis. Here's an explanation of the preprocessing steps:\n",
    "\n",
    "1. **Loading Stopwords**: Stopwords are commonly occurring words in a language (e.g., \"the\", \"is\", \"and\") that often carry little to no semantic meaning. These words are removed from the text during preprocessing to focus on more meaningful content. In the code, a set of English stopwords is loaded from a file named \"stopwords_en.txt\".\n",
    "\n",
    "2. **Defining Tokenizer**: The `RegexpTokenizer` class from the `nltk.tokenize` module is used to tokenize the text. Tokenization is the process of splitting text into individual words or tokens. The regular expression `r\"[a-zA-Z]+(?:[-'][a-zA-Z]+)?\"` is used to match sequences of alphabetic characters, including hyphenated words.\n",
    "\n",
    "3. **Initializing Data Structures**: Several data structures are initialized to store processed job advertisements and track the frequency of words in the entire document collection. \n",
    "   - `processed_ads`: A list to store dictionaries representing processed job advertisements.\n",
    "   - `word_freq`: A Counter object to store the frequency of each word in the document collection.\n",
    "\n",
    "4. **Processing Each Job Advertisement**: The code iterates over each job advertisement, which is represented as a byte string. It extracts various fields such as title, web index, company, and description from the advertisement.\n",
    "\n",
    "5. **Tokenization and Preprocessing**: \n",
    "   - The description of each job advertisement is tokenized using the previously defined tokenizer.\n",
    "   - Each token is converted to lowercase to ensure uniformity.\n",
    "   - Words with a length less than 2 and stopwords are removed from the tokenized text.\n",
    "   \n",
    "6. **Updating Word Frequency**: The frequency of each word in the preprocessed description is updated in the `word_freq` Counter object.\n",
    "\n",
    "7. **Storing Processed Advertisement**: The processed job advertisement, along with its metadata (title, category, web index, company), is stored as a dictionary in the `processed_ads` list.\n",
    "\n",
    "Overall, these preprocessing steps ensure that the job advertisement text is cleaned and standardized, making it suitable for subsequent analysis tasks such as feature extraction and modeling.\n"
   ]
  },
  {
   "cell_type": "code",
   "execution_count": 9,
   "metadata": {},
   "outputs": [],
   "source": [
    "# Load stopwords\n",
    "stop_words = set(stopwords.words('/Users/pallavikollipara/Desktop/rmit/sem2/Advanced Programming for Data Science/Assignment2/rename_me/stopwords_en.txt'))\n",
    "\n",
    "# Define tokenizer\n",
    "tokenizer = RegexpTokenizer(r\"[a-zA-Z]+(?:[-'][a-zA-Z]+)?\")\n",
    "\n",
    "# List to store processed job advertisements\n",
    "processed_ads = []\n",
    "\n",
    "# Counter to store the frequency of each word in the entire document collection\n",
    "word_freq = Counter()"
   ]
  },
  {
   "cell_type": "code",
   "execution_count": 10,
   "metadata": {},
   "outputs": [],
   "source": [
    "# Process each job advertisement\n",
    "for job_ad, category in zip(job_ads, categories): \n",
    "    # Convert bytes to string and split the advertisement into separate fields\n",
    "    job_ad_str = job_ad.decode('utf-8')\n",
    "    fields = job_ad_str.split(\"\\n\")\n",
    "\n",
    "    # Initialize variables to store the separated fields\n",
    "    title = \"\"\n",
    "    webindex = \"\"\n",
    "    company = \"\"\n",
    "    description = \"\"\n",
    "\n",
    "    # Iterate over the fields and assign them to their respective variables\n",
    "    for field in fields:\n",
    "        if field.startswith(\"Title:\"):\n",
    "            title = field.replace(\"Title:\", \"\").strip()\n",
    "        elif field.startswith(\"Webindex:\"):\n",
    "            webindex = field.replace(\"Webindex:\", \"\").strip()\n",
    "        elif field.startswith(\"Company:\"):\n",
    "            company = field.replace(\"Company:\", \"\").strip()\n",
    "        elif field.startswith(\"Description:\"):\n",
    "            description = field.replace(\"Description:\", \"\").strip()\n",
    "\n",
    "    # Tokenize description\n",
    "    tokens = tokenizer.tokenize(description)\n",
    "\n",
    "    # Convert tokens to lowercase and remove short words and stopwords\n",
    "    tokens = [token.lower() for token in tokens if len(token) >= 2 and token.lower() not in stop_words]\n",
    "\n",
    "    # Update word frequency counter\n",
    "    word_freq.update(tokens)\n",
    "\n",
    "    # Combine tokens into a single string\n",
    "    preprocessed_description = \" \".join(tokens)\n",
    "\n",
    "    # Store the processed advertisement as a dictionary\n",
    "    processed_ad = {\n",
    "        \"Title\": title,\n",
    "        \"Category\": category,\n",
    "        \"Webindex\": webindex,\n",
    "        \"Company\": company,\n",
    "        \"Description\": preprocessed_description\n",
    "         \n",
    "    }\n",
    "\n",
    "    # Append the processed advertisement to the list\n",
    "    processed_ads.append(processed_ad)"
   ]
  },
  {
   "cell_type": "code",
   "execution_count": 12,
   "metadata": {},
   "outputs": [],
   "source": [
    "descriptions = [ad['Description'] for ad in processed_ads]"
   ]
  },
  {
   "cell_type": "code",
   "execution_count": 14,
   "metadata": {},
   "outputs": [],
   "source": [
    "from nltk import RegexpTokenizer\n",
    "from nltk.tokenize import sent_tokenize\n",
    "from itertools import chain\n",
    "\n",
    "\n",
    "def tokenize_desc(raw_ads):      \n",
    " # segament into sentences\n",
    "    sentences = sent_tokenize(raw_ads)\n",
    "    # tokenize each sentence\n",
    "    pattern = r'''(?x)\n",
    "    [A-Za-z]+(?:[-'][A-Za-z]+)?        # words with optional internal hyphens and apostrophes\n",
    "    '''\n",
    "    tokenizer = RegexpTokenizer(pattern) \n",
    "    token_lists = [tokenizer.tokenize(sen) for sen in sentences]\n",
    "    # merge them into a list of tokens\n",
    "    tokenised_ads = list(chain.from_iterable(token_lists))\n",
    "    return tokenised_ads"
   ]
  },
  {
   "cell_type": "code",
   "execution_count": 15,
   "metadata": {},
   "outputs": [],
   "source": [
    "import numpy as np\n",
    "def stats_print(tk_ads):\n",
    "    words = list(chain.from_iterable(tk_ads)) # we put all the tokens in the corpus in a single list\n",
    "    vocab = set(words) # compute the vocabulary by converting the list of words/tokens to a set, i.e., giving a set of unique words\n",
    "    lexical_diversity = len(vocab)/len(words)\n",
    "    print(\"Vocabulary size: \",len(vocab))\n",
    "    print(\"Total number of tokens: \", len(words))\n",
    "    print(\"Lexical diversity: \", lexical_diversity)\n",
    "    print(\"Total number of reviews:\", len(tk_ads))\n",
    "    lens = [len(article) for article in tk_ads]\n",
    "    print(\"Average review length:\", np.mean(lens))\n",
    "    print(\"Maximun review length:\", np.max(lens))\n",
    "    print(\"Minimun review length:\", np.min(lens))\n",
    "    print(\"Standard deviation of review length:\", np.std(lens))"
   ]
  },
  {
   "cell_type": "code",
   "execution_count": 16,
   "metadata": {},
   "outputs": [],
   "source": [
    "tk_ads = [tokenize_desc(r.lower()) for r in descriptions]  # list comprehension, generate a list of tokenized articles"
   ]
  },
  {
   "cell_type": "code",
   "execution_count": 17,
   "metadata": {},
   "outputs": [
    {
     "name": "stdout",
     "output_type": "stream",
     "text": [
      "Vocabulary size:  9404\n",
      "Total number of tokens:  107146\n",
      "Lexical diversity:  0.08776809213596401\n",
      "Total number of reviews: 776\n",
      "Average review length: 138.07474226804123\n",
      "Maximun review length: 487\n",
      "Minimun review length: 12\n",
      "Standard deviation of review length: 73.08267159744621\n"
     ]
    }
   ],
   "source": [
    "stats_print(tk_ads)"
   ]
  },
  {
   "cell_type": "code",
   "execution_count": 18,
   "metadata": {},
   "outputs": [],
   "source": [
    "words = list(chain.from_iterable(tk_ads)) # we put all the tokens in the corpus in a single list\n"
   ]
  },
  {
   "cell_type": "code",
   "execution_count": 19,
   "metadata": {},
   "outputs": [],
   "source": [
    "term_fd = FreqDist(words) # compute term frequency for each unique word/type"
   ]
  },
  {
   "cell_type": "code",
   "execution_count": 20,
   "metadata": {},
   "outputs": [
    {
     "data": {
      "text/plain": [
       "[('experience', 1276),\n",
       " ('sales', 1030),\n",
       " ('role', 946),\n",
       " ('work', 861),\n",
       " ('business', 832),\n",
       " ('team', 789),\n",
       " ('working', 719),\n",
       " ('job', 688),\n",
       " ('care', 675),\n",
       " ('skills', 669),\n",
       " ('company', 614),\n",
       " ('client', 594),\n",
       " ('management', 572),\n",
       " ('manager', 519),\n",
       " ('support', 501),\n",
       " ('uk', 496),\n",
       " ('service', 481),\n",
       " ('excellent', 455),\n",
       " ('development', 431),\n",
       " ('required', 399),\n",
       " ('based', 376),\n",
       " ('opportunity', 372),\n",
       " ('services', 369),\n",
       " ('knowledge', 349),\n",
       " ('apply', 349),\n",
       " ('successful', 340),\n",
       " ('training', 338),\n",
       " ('design', 337),\n",
       " ('engineering', 336),\n",
       " ('customer', 335),\n",
       " ('recruitment', 335),\n",
       " ('salary', 322),\n",
       " ('candidate', 319),\n",
       " ('clients', 310),\n",
       " ('high', 309),\n",
       " ('join', 302),\n",
       " ('ability', 301),\n",
       " ('strong', 299),\n",
       " ('provide', 298),\n",
       " ('home', 291),\n",
       " ('ensure', 290),\n",
       " ('leading', 289),\n",
       " ('including', 287),\n",
       " ('engineer', 285),\n",
       " ('financial', 279),\n",
       " ('good', 274),\n",
       " ('staff', 271),\n",
       " ('position', 268),\n",
       " ('systems', 267),\n",
       " ('full', 263)]"
      ]
     },
     "execution_count": 20,
     "metadata": {},
     "output_type": "execute_result"
    }
   ],
   "source": [
    "term_fd.most_common(50)"
   ]
  },
  {
   "cell_type": "code",
   "execution_count": 21,
   "metadata": {},
   "outputs": [
    {
     "data": {
      "image/png": "[encoded data removed]",
      "text/plain": [
       "<Figure size 640x480 with 1 Axes>"
      ]
     },
     "metadata": {},
     "output_type": "display_data"
    },
    {
     "data": {
      "text/plain": [
       "<Axes: xlabel='Samples', ylabel='Cumulative Counts'>"
      ]
     },
     "execution_count": 21,
     "metadata": {},
     "output_type": "execute_result"
    }
   ],
   "source": [
    "term_fd.plot(25, cumulative=True)"
   ]
  },
  {
   "cell_type": "code",
   "execution_count": 22,
   "metadata": {},
   "outputs": [],
   "source": [
    "# Remove words that appear only once in the document collection\n",
    "unique_words = set(word for word, freq in word_freq.items() if freq == 1)"
   ]
  },
  {
   "cell_type": "code",
   "execution_count": 23,
   "metadata": {},
   "outputs": [],
   "source": [
    "# Remove the top 50 most frequent words based on document frequency\n",
    "top_50_words = [word for word, _ in word_freq.most_common(50)]"
   ]
  },
  {
   "cell_type": "code",
   "execution_count": 24,
   "metadata": {},
   "outputs": [],
   "source": [
    "# Update processed descriptions to remove unique and top 50 words\n",
    "for ad in processed_ads:\n",
    "    tokens = ad['Description'].split()\n",
    "    tokens = [token for token in tokens if token not in unique_words and token not in top_50_words]\n",
    "    ad['Description'] = \" \".join(tokens)"
   ]
  },
  {
   "cell_type": "code",
   "execution_count": 25,
   "metadata": {},
   "outputs": [],
   "source": [
    "# Save processed job advertisements to a file\n",
    "output_file = \"processed_job_ads.txt\"\n",
    "with open(output_file, \"w\") as file:\n",
    "    for ad in processed_ads:\n",
    "        file.write(f\"Title: {ad['Title']}\\n\")\n",
    "        file.write(f\"Category: {ad['Category']}\\n\")\n",
    "        file.write(f\"Webindex: {ad['Webindex']}\\n\")\n",
    "        file.write(f\"Company: {ad['Company']}\\n\")\n",
    "        file.write(f\"Description: {ad['Description']}\\n\\n\")\n"
   ]
  },
  {
   "cell_type": "code",
   "execution_count": 26,
   "metadata": {},
   "outputs": [],
   "source": [
    "descriptions = [ad['Description'] for ad in processed_ads]"
   ]
  },
  {
   "cell_type": "code",
   "execution_count": 27,
   "metadata": {},
   "outputs": [],
   "source": [
    "tk_ads = [tokenize_desc(r.lower()) for r in descriptions]  # list comprehension, generate a list of tokenized articles"
   ]
  },
  {
   "cell_type": "code",
   "execution_count": 28,
   "metadata": {},
   "outputs": [
    {
     "name": "stdout",
     "output_type": "stream",
     "text": [
      "Vocabulary size:  5168\n",
      "Total number of tokens:  80053\n",
      "Lexical diversity:  0.0645572308345721\n",
      "Total number of reviews: 776\n",
      "Average review length: 103.1610824742268\n",
      "Maximun review length: 390\n",
      "Minimun review length: 7\n",
      "Standard deviation of review length: 56.700979835379975\n"
     ]
    }
   ],
   "source": [
    "stats_print(tk_ads)"
   ]
  },
  {
   "cell_type": "markdown",
   "metadata": {},
   "source": [
    "## Saving required outputs\n",
    "\n",
    "- vocab.txt"
   ]
  },
  {
   "cell_type": "code",
   "execution_count": 29,
   "metadata": {},
   "outputs": [],
   "source": [
    "vocabulary = sorted(set([ads for sublist in tk_ads for ads in sublist]))\n"
   ]
  },
  {
   "cell_type": "code",
   "execution_count": 30,
   "metadata": {},
   "outputs": [],
   "source": [
    "# Save vocabulary to a txt file\n",
    "vocab_path = \"vocab.txt\"\n",
    "with open(vocab_path, 'w') as file:\n",
    "    for index, word in enumerate(vocabulary):\n",
    "        file.write(f\"{word}:{index}\\n\")"
   ]
  },
  {
   "cell_type": "markdown",
   "metadata": {},
   "source": [
    "## Summary\n",
    "\n",
    "The whole process involves basic text pre-processing of a dataset containing job advertisements. Here's a summary of the steps involved:\n",
    "\n",
    "1. **Loading Data**: Examining and loading the job advertisement data, which comprises 776 files categorized into Accounting_Finance, Healthcare_Nursing, Engineering, and Sales.\n",
    "\n",
    "2. **Pre-processing Data**:\n",
    "   - Tokenization of job advertisement descriptions using a regular expression pattern.\n",
    "   - Conversion of tokens to lowercase.\n",
    "   - Removal of stopwords, short words (length less than 2), and words that appear only once in the document collection.\n",
    "   - Extraction of relevant information such as title, web index, company, and description from each advertisement.\n",
    "   - Counting the frequency of each word in the entire document collection.\n",
    "\n",
    "3. **Vocabulary Creation**:\n",
    "   - Generating a vocabulary from the preprocessed job advertisement descriptions.\n",
    "   - Saving the vocabulary to a text file in alphabetical order, with each word paired with its corresponding index.\n",
    "\n",
    "The output of Task 1 includes the preprocessed job advertisements along with the vocabulary file, which serves as a reference for encoding words into numeric indices for further analysis and modeling."
   ]
  }
 ],
 "metadata": {
  "kernelspec": {
   "display_name": "Python 3 (ipykernel)",
   "language": "python",
   "name": "python3"
  },
  "language_info": {
   "codemirror_mode": {
    "name": "ipython",
    "version": 3
   },
   "file_extension": ".py",
   "mimetype": "text/x-python",
   "name": "python",
   "nbconvert_exporter": "python",
   "pygments_lexer": "ipython3",
   "version": "3.11.3"
  }
 },
 "nbformat": 4,
 "nbformat_minor": 1
}
